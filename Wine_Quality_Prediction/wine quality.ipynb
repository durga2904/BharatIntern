{
 "cells": [
  {
   "cell_type": "code",
   "execution_count": null,
   "metadata": {},
   "outputs": [],
   "source": [
    "import numpy as np\n",
    "import pandas as pd\n",
    "import matplotlib.pyplot as plt\n",
    "import seaborn as sb\n",
    "\n",
    "from sklearn.model_selection import train_test_split\n",
    "from sklearn.preprocessing import MinMaxScaler\n",
    "from sklearn import metrics\n",
    "from sklearn.svm import SVC\n",
    "from xgboost import XGBClassifier\n",
    "from sklearn.linear_model import LogisticRegression\n",
    "\n",
    "\n",
    "\n",
    "import warnings\n",
    "warnings.filterwarnings('ignore')"
   ]
  },
  {
   "cell_type": "code",
   "execution_count": null,
   "metadata": {},
   "outputs": [],
   "source": [
    "data_frame = pd.read_csv('winequality-red.csv')\n",
    "print(data_frame.head())\n",
    "   fixed acidity  volatile acidity  citric acid  residual sugar  chlorides  \\\n",
    "0            7.4              0.70         0.00             1.9      0.076   \n",
    "1            7.8              0.88         0.00             2.6      0.098   \n",
    "2            7.8              0.76         0.04             2.3      0.092   \n",
    "3           11.2              0.28         0.56             1.9      0.075   \n",
    "4            7.4              0.70         0.00             1.9      0.076   \n",
    "\n",
    "   free sulfur dioxide  total sulfur dioxide  density    pH  sulphates  \\\n",
    "0                 11.0                  34.0   0.9978  3.51       0.56   \n",
    "1                 25.0                  67.0   0.9968  3.20       0.68   \n",
    "2                 15.0                  54.0   0.9970  3.26       0.65   \n",
    "3                 17.0                  60.0   0.9980  3.16       0.58   \n",
    "4                 11.0                  34.0   0.9978  3.51       0.56   \n",
    "\n",
    "   alcohol  quality  \n",
    "0      9.4        5  \n",
    "1      9.8        5  \n",
    "2      9.8        5  \n",
    "3      9.8        6  \n",
    "4      9.4        5  "
   ]
  },
  {
   "cell_type": "code",
   "execution_count": null,
   "metadata": {},
   "outputs": [],
   "source": [
    "data_frame.head(5)"
   ]
  },
  {
   "cell_type": "code",
   "execution_count": null,
   "metadata": {},
   "outputs": [],
   "source": [
    "fixed acidity\tvolatile acidity\tcitric acid\tresidual sugar\tchlorides\tfree sulfur dioxide\ttotal sulfur dioxide\tdensity\tpH\tsulphates\talcohol\tquality\n",
    "0\t7.4\t0.70\t0.00\t1.9\t0.076\t11.0\t34.0\t0.9978\t3.51\t0.56\t9.4\t5\n",
    "1\t7.8\t0.88\t0.00\t2.6\t0.098\t25.0\t67.0\t0.9968\t3.20\t0.68\t9.8\t5\n",
    "2\t7.8\t0.76\t0.04\t2.3\t0.092\t15.0\t54.0\t0.9970\t3.26\t0.65\t9.8\t5\n",
    "3\t11.2\t0.28\t0.56\t1.9\t0.075\t17.0\t60.0\t0.9980\t3.16\t0.58\t9.8\t6\n",
    "4\t7.4\t0.70\t0.00\t1.9\t0.076\t11.0\t34.0\t0.9978\t3.51\t0.56\t9.4\t5"
   ]
  },
  {
   "cell_type": "code",
   "execution_count": null,
   "metadata": {},
   "outputs": [],
   "source": [
    "data_frame.info()\n",
    "<class 'pandas.core.frame.DataFrame'>\n",
    "RangeIndex: 1599 entries, 0 to 1598\n",
    "Data columns (total 12 columns):\n",
    " #   Column                Non-Null Count  Dtype  \n",
    "---  ------                --------------  -----  \n",
    " 0   fixed acidity         1599 non-null   float64\n",
    " 1   volatile acidity      1599 non-null   float64\n",
    " 2   citric acid           1599 non-null   float64\n",
    " 3   residual sugar        1599 non-null   float64\n",
    " 4   chlorides             1599 non-null   float64\n",
    " 5   free sulfur dioxide   1599 non-null   float64\n",
    " 6   total sulfur dioxide  1599 non-null   float64\n",
    " 7   density               1599 non-null   float64\n",
    " 8   pH                    1599 non-null   float64\n",
    " 9   sulphates             1599 non-null   float64\n",
    " 10  alcohol               1599 non-null   float64\n",
    " 11  quality               1599 non-null   int64  \n",
    "dtypes: float64(11), int64(1)\n",
    "memory usage: 150.0 KB"
   ]
  },
  {
   "cell_type": "code",
   "execution_count": null,
   "metadata": {},
   "outputs": [],
   "source": [
    "set(data_frame.quality)\n",
    "{3, 4, 5, 6, 7, 8}"
   ]
  },
  {
   "cell_type": "markdown",
   "metadata": {},
   "source": [
    "data_frame.describe().T\n",
    "count\tmean\tstd\tmin\t25%\t50%\t75%\tmax\n",
    "fixed acidity\t1599.0\t8.319637\t1.741096\t4.60000\t7.1000\t7.90000\t9.200000\t15.90000\n",
    "volatile acidity\t1599.0\t0.527821\t0.179060\t0.12000\t0.3900\t0.52000\t0.640000\t1.58000\n",
    "citric acid\t1599.0\t0.270976\t0.194801\t0.00000\t0.0900\t0.26000\t0.420000\t1.00000\n",
    "residual sugar\t1599.0\t2.538806\t1.409928\t0.90000\t1.9000\t2.20000\t2.600000\t15.50000\n",
    "chlorides\t1599.0\t0.087467\t0.047065\t0.01200\t0.0700\t0.07900\t0.090000\t0.61100\n",
    "free sulfur dioxide\t1599.0\t15.874922\t10.460157\t1.00000\t7.0000\t14.00000\t21.000000\t72.00000\n",
    "total sulfur dioxide\t1599.0\t46.467792\t32.895324\t6.00000\t22.0000\t38.00000\t62.000000\t289.00000\n",
    "density\t1599.0\t0.996747\t0.001887\t0.99007\t0.9956\t0.99675\t0.997835\t1.00369\n",
    "pH\t1599.0\t3.311113\t0.154386\t2.74000\t3.2100\t3.31000\t3.400000\t4.01000\n",
    "sulphates\t1599.0\t0.658149\t0.169507\t0.33000\t0.5500\t0.62000\t0.730000\t2.00000\n",
    "alcohol\t1599.0\t10.422983\t1.065668\t8.40000\t9.5000\t10.20000\t11.100000\t14.90000\n",
    "quality\t1599.0\t5.636023\t0.807569\t3.00000\t5.0000\t6.00000\t6.000000\t8.00000"
   ]
  },
  {
   "cell_type": "code",
   "execution_count": null,
   "metadata": {},
   "outputs": [],
   "source": [
    "data_frame.isnull().sum()\n",
    "fixed acidity           0\n",
    "volatile acidity        0\n",
    "citric acid             0\n",
    "residual sugar          0\n",
    "chlorides               0\n",
    "free sulfur dioxide     0\n",
    "total sulfur dioxide    0\n",
    "density                 0\n",
    "pH                      0\n",
    "sulphates               0\n",
    "alcohol                 0\n",
    "quality                 0\n",
    "dtype: int64"
   ]
  },
  {
   "cell_type": "code",
   "execution_count": null,
   "metadata": {},
   "outputs": [],
   "source": [
    "for col in data_frame.columns:\n",
    "    if data_frame[col].isnull().sum() > 0:\n",
    "        data_frame[col] = data_frame[col].fillna(data_frame[col].mean())\n",
    "\n",
    "total_missing = data_frame.isnull().sum().sum()"
   ]
  },
  {
   "cell_type": "code",
   "execution_count": null,
   "metadata": {},
   "outputs": [],
   "source": [
    "data_frame.hist(bins=20, figsize=(10, 10))\n",
    "plt.show()\n"
   ]
  },
  {
   "cell_type": "code",
   "execution_count": null,
   "metadata": {},
   "outputs": [],
   "source": [
    "plt.bar(data_frame['quality'], data_frame['alcohol'])\n",
    "plt.xlabel('quality')\n",
    "plt.ylabel('alcohol')\n",
    "plt.show()\n"
   ]
  },
  {
   "cell_type": "code",
   "execution_count": null,
   "metadata": {},
   "outputs": [],
   "source": [
    "plt.figure(figsize=(12, 12))\n",
    "sb.heatmap(data_frame.corr() > 0.7, annot=True, cbar=True)\n",
    "plt.show()"
   ]
  },
  {
   "cell_type": "code",
   "execution_count": null,
   "metadata": {},
   "outputs": [],
   "source": [
    "data_frame = data_frame.drop('total sulfur dioxide', axis=1)"
   ]
  },
  {
   "cell_type": "code",
   "execution_count": null,
   "metadata": {},
   "outputs": [],
   "source": [
    "data_frame['best quality'] = [1 if x > 5 else 0 for x in data_frame.quality]"
   ]
  },
  {
   "cell_type": "code",
   "execution_count": null,
   "metadata": {},
   "outputs": [],
   "source": [
    "data_frame.replace({'white': 1, 'red': 0}, inplace=True)"
   ]
  },
  {
   "cell_type": "code",
   "execution_count": null,
   "metadata": {},
   "outputs": [],
   "source": [
    "features = data_frame.drop(['quality', 'best quality'], axis=1)\n",
    "target = data_frame['best quality']\n",
    "\n",
    "xtrain, xtest, ytrain, ytest = train_test_split(\n",
    "\tfeatures, target, test_size=0.2, random_state=40)\n",
    "\n",
    "xtrain.shape, xtest.shape\n",
    "((1279, 10), (320, 10))"
   ]
  },
  {
   "cell_type": "code",
   "execution_count": null,
   "metadata": {},
   "outputs": [],
   "source": [
    "norm = MinMaxScaler()\n",
    "xtrain = norm.fit_transform(xtrain)\n",
    "xtest = norm.transform(xtest)"
   ]
  },
  {
   "cell_type": "code",
   "execution_count": null,
   "metadata": {},
   "outputs": [],
   "source": [
    "models = [LogisticRegression(), XGBClassifier(), SVC(kernel='rbf')]\n",
    "\n",
    "for i in range(3):\n",
    "\tmodels[i].fit(xtrain, ytrain)\n",
    "\n",
    "\tprint(f'{models[i]} : ')\n",
    "\tprint('Training Accuracy : ', metrics.roc_auc_score(ytrain, models[i].predict(xtrain)))\n",
    "\tprint('Validation Accuracy : ', metrics.roc_auc_score(\n",
    "\t\tytest, models[i].predict(xtest)))\n",
    "\tprint()\n",
    "LogisticRegression() : \n",
    "Training Accuracy :  0.7286886534333447\n",
    "Validation Accuracy :  0.765345444536196\n",
    "\n",
    "XGBClassifier(base_score=None, booster=None, callbacks=None,\n",
    "              colsample_bylevel=None, colsample_bynode=None,\n",
    "              colsample_bytree=None, device=None, early_stopping_rounds=None,\n",
    "              enable_categorical=False, eval_metric=None, feature_types=None,\n",
    "              gamma=None, grow_policy=None, importance_type=None,\n",
    "              interaction_constraints=None, learning_rate=None, max_bin=None,\n",
    "              max_cat_threshold=None, max_cat_to_onehot=None,\n",
    "              max_delta_step=None, max_depth=None, max_leaves=None,\n",
    "              min_child_weight=None, missing=nan, monotone_constraints=None,\n",
    "              multi_strategy=None, n_estimators=None, n_jobs=None,\n",
    "              num_parallel_tree=None, random_state=None, ...) : \n",
    "Training Accuracy :  1.0\n",
    "Validation Accuracy :  0.8321733317604498\n",
    "\n",
    "SVC() : \n",
    "Training Accuracy :  0.7699408577589806\n",
    "Validation Accuracy :  0.7930675160237505"
   ]
  },
  {
   "cell_type": "code",
   "execution_count": null,
   "metadata": {},
   "outputs": [],
   "source": [
    "print(metrics.classification_report(ytest,\n",
    "\t\t\t\t\t\t\t\t\tmodels[1].predict(xtest)))\n",
    "              precision    recall  f1-score   support\n",
    "\n",
    "           0       0.80      0.84      0.82       147\n",
    "           1       0.86      0.82      0.84       173\n",
    "\n",
    "    accuracy                           0.83       320\n",
    "   macro avg       0.83      0.83      0.83       320\n",
    "weighted avg       0.83      0.83      0.83       320"
   ]
  }
 ],
 "metadata": {
  "language_info": {
   "name": "python"
  }
 },
 "nbformat": 4,
 "nbformat_minor": 2
}
